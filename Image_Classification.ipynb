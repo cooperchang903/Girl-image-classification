{
 "cells": [
  {
   "cell_type": "markdown",
   "metadata": {
    "colab_type": "text",
    "id": "qjQnu80ijCa-"
   },
   "source": [
    "# CNN + Transfer learning 練習"
   ]
  },
  {
   "cell_type": "code",
   "execution_count": 1,
   "metadata": {},
   "outputs": [],
   "source": [
    "import numpy as np\n",
    "import pandas as pd\n",
    "import os\n",
    "import matplotlib.pyplot as plt\n",
    "%matplotlib inline\n",
    "os.environ[\"CUDA_VISIBLE_DEVICES\"] = \"0\""
   ]
  },
  {
   "cell_type": "code",
   "execution_count": 2,
   "metadata": {
    "colab": {
     "base_uri": "https://localhost:8080/",
     "height": 34
    },
    "colab_type": "code",
    "executionInfo": {
     "elapsed": 2507,
     "status": "ok",
     "timestamp": 1563005360776,
     "user": {
      "displayName": "kinna kinna",
      "photoUrl": "",
      "userId": "09336290170720198249"
     },
     "user_tz": -480
    },
    "id": "vjFmupouR8XP",
    "outputId": "144c892d-e51f-4bc0-fdaf-2048146749ff"
   },
   "outputs": [],
   "source": [
    "from tensorflow import keras\n",
    "from tensorflow.keras.preprocessing.image import ImageDataGenerator\n",
    "from tensorflow.keras.models import Model\n",
    "from tensorflow.keras.layers import (Dense, Dropout, Activation,\n",
    "                                     Flatten, GlobalAveragePooling2D)\n",
    "import tensorflow as tf"
   ]
  },
  {
   "cell_type": "markdown",
   "metadata": {
    "colab_type": "text",
    "id": "kxBu1rarjRU0"
   },
   "source": [
    "## 資料讀入及前處理"
   ]
  },
  {
   "cell_type": "code",
   "execution_count": 3,
   "metadata": {},
   "outputs": [
    {
     "data": {
      "text/html": [
       "<div>\n",
       "<style scoped>\n",
       "    .dataframe tbody tr th:only-of-type {\n",
       "        vertical-align: middle;\n",
       "    }\n",
       "\n",
       "    .dataframe tbody tr th {\n",
       "        vertical-align: top;\n",
       "    }\n",
       "\n",
       "    .dataframe thead th {\n",
       "        text-align: right;\n",
       "    }\n",
       "</style>\n",
       "<table border=\"1\" class=\"dataframe\">\n",
       "  <thead>\n",
       "    <tr style=\"text-align: right;\">\n",
       "      <th></th>\n",
       "      <th>classname</th>\n",
       "      <th>classnum</th>\n",
       "    </tr>\n",
       "  </thead>\n",
       "  <tbody>\n",
       "    <tr>\n",
       "      <th>0</th>\n",
       "      <td>rika</td>\n",
       "      <td>0</td>\n",
       "    </tr>\n",
       "    <tr>\n",
       "      <th>1</th>\n",
       "      <td>risa</td>\n",
       "      <td>1</td>\n",
       "    </tr>\n",
       "    <tr>\n",
       "      <th>2</th>\n",
       "      <td>yui</td>\n",
       "      <td>2</td>\n",
       "    </tr>\n",
       "    <tr>\n",
       "      <th>3</th>\n",
       "      <td>akane</td>\n",
       "      <td>3</td>\n",
       "    </tr>\n",
       "    <tr>\n",
       "      <th>4</th>\n",
       "      <td>neru</td>\n",
       "      <td>4</td>\n",
       "    </tr>\n",
       "  </tbody>\n",
       "</table>\n",
       "</div>"
      ],
      "text/plain": [
       "  classname  classnum\n",
       "0      rika         0\n",
       "1      risa         1\n",
       "2       yui         2\n",
       "3     akane         3\n",
       "4      neru         4"
      ]
     },
     "execution_count": 3,
     "metadata": {},
     "output_type": "execute_result"
    }
   ],
   "source": [
    "df_label = pd.read_csv('/home/jovyan/mid-term/who_is_she/input/classmap.csv')\n",
    "df_label"
   ]
  },
  {
   "cell_type": "code",
   "execution_count": 4,
   "metadata": {},
   "outputs": [
    {
     "data": {
      "text/plain": [
       "'0'"
      ]
     },
     "execution_count": 4,
     "metadata": {},
     "output_type": "execute_result"
    }
   ],
   "source": [
    "num = df_label.loc[df_label['classname'] == 'rika'].classnum.values[0]\n",
    "num = num.astype(str)\n",
    "num"
   ]
  },
  {
   "cell_type": "code",
   "execution_count": 5,
   "metadata": {},
   "outputs": [],
   "source": [
    "data_path = \"/home/jovyan/mid-term/who_is_she/input/training_set\"\n",
    "\n",
    "x_data_list = []\n",
    "y_data_list = []\n",
    "for roots, dirs, files in os.walk(data_path):\n",
    "    for each in files:\n",
    "        if each.find('checkpoint') == -1:\n",
    "            x_data_list.append(os.path.join(roots, each))\n",
    "            class_name = roots.split(\"/\")[-1]\n",
    "            label = df_label.loc[df_label['classname'] == class_name].classnum.values[0]\n",
    "            label = label.astype(str)\n",
    "            y_data_list.append(label)"
   ]
  },
  {
   "cell_type": "code",
   "execution_count": 6,
   "metadata": {},
   "outputs": [],
   "source": [
    "# y_data_list"
   ]
  },
  {
   "cell_type": "code",
   "execution_count": 7,
   "metadata": {},
   "outputs": [],
   "source": [
    "data_list = pd.DataFrame({})\n",
    "data_list['img_path'] = x_data_list\n",
    "data_list['label'] = y_data_list"
   ]
  },
  {
   "cell_type": "code",
   "execution_count": 8,
   "metadata": {},
   "outputs": [
    {
     "data": {
      "text/html": [
       "<div>\n",
       "<style scoped>\n",
       "    .dataframe tbody tr th:only-of-type {\n",
       "        vertical-align: middle;\n",
       "    }\n",
       "\n",
       "    .dataframe tbody tr th {\n",
       "        vertical-align: top;\n",
       "    }\n",
       "\n",
       "    .dataframe thead th {\n",
       "        text-align: right;\n",
       "    }\n",
       "</style>\n",
       "<table border=\"1\" class=\"dataframe\">\n",
       "  <thead>\n",
       "    <tr style=\"text-align: right;\">\n",
       "      <th></th>\n",
       "      <th>img_path</th>\n",
       "      <th>label</th>\n",
       "    </tr>\n",
       "  </thead>\n",
       "  <tbody>\n",
       "    <tr>\n",
       "      <th>0</th>\n",
       "      <td>/home/jovyan/mid-term/who_is_she/input/trainin...</td>\n",
       "      <td>0</td>\n",
       "    </tr>\n",
       "    <tr>\n",
       "      <th>1</th>\n",
       "      <td>/home/jovyan/mid-term/who_is_she/input/trainin...</td>\n",
       "      <td>0</td>\n",
       "    </tr>\n",
       "    <tr>\n",
       "      <th>2</th>\n",
       "      <td>/home/jovyan/mid-term/who_is_she/input/trainin...</td>\n",
       "      <td>0</td>\n",
       "    </tr>\n",
       "  </tbody>\n",
       "</table>\n",
       "</div>"
      ],
      "text/plain": [
       "                                            img_path label\n",
       "0  /home/jovyan/mid-term/who_is_she/input/trainin...     0\n",
       "1  /home/jovyan/mid-term/who_is_she/input/trainin...     0\n",
       "2  /home/jovyan/mid-term/who_is_she/input/trainin...     0"
      ]
     },
     "execution_count": 8,
     "metadata": {},
     "output_type": "execute_result"
    }
   ],
   "source": [
    "data_list.head(3)"
   ]
  },
  {
   "cell_type": "code",
   "execution_count": 9,
   "metadata": {},
   "outputs": [],
   "source": [
    "from sklearn.model_selection import train_test_split\n",
    "\n",
    "train_list, valid_list = train_test_split(data_list,\n",
    "                                         test_size=0.2,\n",
    "                                         random_state=35,\n",
    "                                         stratify=data_list['label'].values)"
   ]
  },
  {
   "cell_type": "code",
   "execution_count": 10,
   "metadata": {},
   "outputs": [],
   "source": [
    "#train_list"
   ]
  },
  {
   "cell_type": "code",
   "execution_count": 11,
   "metadata": {},
   "outputs": [],
   "source": [
    "#valid_list"
   ]
  },
  {
   "cell_type": "code",
   "execution_count": 12,
   "metadata": {},
   "outputs": [],
   "source": [
    "pred_data_path = \"/home/jovyan/mid-term/who_is_she/input/testing_set\"\n",
    "\n",
    "x_pred_list = []\n",
    "\n",
    "for roots, dirs, files in os.walk(pred_data_path):\n",
    "    for each in files:\n",
    "        if each.find('checkpoint') == -1:\n",
    "            x_pred_list.append(os.path.join(roots, each))\n"
   ]
  },
  {
   "cell_type": "code",
   "execution_count": 13,
   "metadata": {},
   "outputs": [],
   "source": [
    "pred_list = pd.DataFrame({})\n",
    "pred_list['img_path'] = x_pred_list"
   ]
  },
  {
   "cell_type": "code",
   "execution_count": 14,
   "metadata": {},
   "outputs": [
    {
     "data": {
      "text/html": [
       "<div>\n",
       "<style scoped>\n",
       "    .dataframe tbody tr th:only-of-type {\n",
       "        vertical-align: middle;\n",
       "    }\n",
       "\n",
       "    .dataframe tbody tr th {\n",
       "        vertical-align: top;\n",
       "    }\n",
       "\n",
       "    .dataframe thead th {\n",
       "        text-align: right;\n",
       "    }\n",
       "</style>\n",
       "<table border=\"1\" class=\"dataframe\">\n",
       "  <thead>\n",
       "    <tr style=\"text-align: right;\">\n",
       "      <th></th>\n",
       "      <th>img_path</th>\n",
       "    </tr>\n",
       "  </thead>\n",
       "  <tbody>\n",
       "    <tr>\n",
       "      <th>0</th>\n",
       "      <td>/home/jovyan/mid-term/who_is_she/input/testing...</td>\n",
       "    </tr>\n",
       "    <tr>\n",
       "      <th>1</th>\n",
       "      <td>/home/jovyan/mid-term/who_is_she/input/testing...</td>\n",
       "    </tr>\n",
       "    <tr>\n",
       "      <th>2</th>\n",
       "      <td>/home/jovyan/mid-term/who_is_she/input/testing...</td>\n",
       "    </tr>\n",
       "  </tbody>\n",
       "</table>\n",
       "</div>"
      ],
      "text/plain": [
       "                                            img_path\n",
       "0  /home/jovyan/mid-term/who_is_she/input/testing...\n",
       "1  /home/jovyan/mid-term/who_is_she/input/testing...\n",
       "2  /home/jovyan/mid-term/who_is_she/input/testing..."
      ]
     },
     "execution_count": 14,
     "metadata": {},
     "output_type": "execute_result"
    }
   ],
   "source": [
    "pred_list.head(3)"
   ]
  },
  {
   "cell_type": "code",
   "execution_count": 15,
   "metadata": {},
   "outputs": [],
   "source": [
    "img_size = 224\n",
    "num_class = len(data_list['label'].unique())"
   ]
  },
  {
   "cell_type": "markdown",
   "metadata": {
    "colab_type": "text",
    "id": "l_mL6wfrC52J"
   },
   "source": [
    "## 讀入 Pre-trained Model"
   ]
  },
  {
   "cell_type": "code",
   "execution_count": 16,
   "metadata": {},
   "outputs": [],
   "source": [
    "from tensorflow.keras.applications.resnet import (ResNet50, preprocess_input)"
   ]
  },
  {
   "cell_type": "code",
   "execution_count": 17,
   "metadata": {
    "colab": {
     "base_uri": "https://localhost:8080/",
     "height": 620
    },
    "colab_type": "code",
    "executionInfo": {
     "elapsed": 5152,
     "status": "ok",
     "timestamp": 1563005580377,
     "user": {
      "displayName": "kinna kinna",
      "photoUrl": "",
      "userId": "09336290170720198249"
     },
     "user_tz": -480
    },
    "id": "Y3aJkkKcC52L",
    "outputId": "dfb1e4dc-8aea-404a-85e5-b6a59ea3f0bb"
   },
   "outputs": [
    {
     "name": "stdout",
     "output_type": "stream",
     "text": [
      "Downloading data from https://github.com/keras-team/keras-applications/releases/download/resnet/resnet50_weights_tf_dim_ordering_tf_kernels_notop.h5\n",
      "94773248/94765736 [==============================] - 5s 0us/step\n"
     ]
    }
   ],
   "source": [
    "pre_model = ResNet50(weights='imagenet', include_top=False,\n",
    "                     input_shape=(img_size, img_size, 3))\n",
    "\n",
    "x = GlobalAveragePooling2D()(pre_model.output)\n",
    "# x = Dense(128, activation='relu')(x)\n",
    "x = Dropout(0.1)(x)\n",
    "outputs = Dense(num_class, activation='softmax')(x)\n",
    "\n",
    "\n",
    "model = Model(inputs=pre_model.inputs, outputs=outputs)"
   ]
  },
  {
   "cell_type": "code",
   "execution_count": 42,
   "metadata": {},
   "outputs": [],
   "source": [
    "# model.summary()"
   ]
  },
  {
   "cell_type": "markdown",
   "metadata": {},
   "source": [
    "# 決定 Pre-Train 參數量"
   ]
  },
  {
   "cell_type": "code",
   "execution_count": 19,
   "metadata": {},
   "outputs": [],
   "source": [
    "pre_model.trainable = True\n",
    "\n",
    "# trainable_layer = 10\n",
    "# for layer in pre_model.layers[:-trainable_layer]:\n",
    "#     layer.trainable = False\n",
    "\n",
    "# for layer in model.layers:\n",
    "#     print(layer, layer.trainable)\n",
    "\n",
    "# model.summary()"
   ]
  },
  {
   "cell_type": "code",
   "execution_count": 20,
   "metadata": {
    "colab": {
     "base_uri": "https://localhost:8080/",
     "height": 71
    },
    "colab_type": "code",
    "executionInfo": {
     "elapsed": 641,
     "status": "ok",
     "timestamp": 1563005718020,
     "user": {
      "displayName": "kinna kinna",
      "photoUrl": "",
      "userId": "09336290170720198249"
     },
     "user_tz": -480
    },
    "id": "dtPtV8bwSMO7",
    "outputId": "714004b6-a2c2-4b7f-b0de-6f0b06728b03"
   },
   "outputs": [],
   "source": [
    "learning_rate = 1e-5\n",
    "optimizer = keras.optimizers.Adam(lr=learning_rate)\n",
    "\n",
    "model.compile(loss='categorical_crossentropy',\n",
    "              optimizer=optimizer,\n",
    "              metrics=['accuracy'])"
   ]
  },
  {
   "cell_type": "markdown",
   "metadata": {
    "colab_type": "text",
    "id": "Ldw-zoshjx38"
   },
   "source": [
    "# Data Augmentation"
   ]
  },
  {
   "cell_type": "code",
   "execution_count": 21,
   "metadata": {
    "cellView": "both",
    "colab": {},
    "colab_type": "code",
    "id": "lJVCV4ApSEmI"
   },
   "outputs": [],
   "source": [
    "batch_size = 32\n",
    "num_steps = len(train_list) // batch_size + 1\n",
    "num_epochs = 50"
   ]
  },
  {
   "cell_type": "code",
   "execution_count": 22,
   "metadata": {},
   "outputs": [],
   "source": [
    "train_datagen = ImageDataGenerator(\n",
    "                                   width_shift_range=0.2,\n",
    "                                   height_shift_range=0.2,\n",
    "                                   horizontal_flip=True,\n",
    "                                   preprocessing_function=preprocess_input\n",
    "                                  )\n",
    "test_datagen = ImageDataGenerator(preprocessing_function=preprocess_input)"
   ]
  },
  {
   "cell_type": "code",
   "execution_count": 23,
   "metadata": {},
   "outputs": [
    {
     "name": "stdout",
     "output_type": "stream",
     "text": [
      "Found 430 validated image filenames belonging to 5 classes.\n",
      "Found 108 validated image filenames belonging to 5 classes.\n",
      "Found 438 validated image filenames.\n"
     ]
    }
   ],
   "source": [
    "img_shape = (img_size, img_size)\n",
    "\n",
    "train_generator = train_datagen.flow_from_dataframe(\n",
    "                                                    dataframe=train_list,\n",
    "                                                    directory=data_path,\n",
    "                                                    x_col=\"img_path\",\n",
    "                                                    y_col=\"label\",\n",
    "                                                    target_size=img_shape,\n",
    "                                                    batch_size=batch_size,\n",
    "                                                    class_mode='categorical')\n",
    "\n",
    "valid_generator = test_datagen.flow_from_dataframe(\n",
    "                                                    dataframe=valid_list,\n",
    "                                                    directory=data_path,\n",
    "                                                    x_col=\"img_path\",\n",
    "                                                    y_col=\"label\",\n",
    "                                                    target_size=img_shape,\n",
    "                                                    batch_size=batch_size,\n",
    "                                                    class_mode='categorical',\n",
    "                                                    shuffle=False)\n",
    "\n",
    "#用在不知道 label 的資料讀取上\n",
    "test_generator = test_datagen.flow_from_dataframe(\n",
    "                                                    dataframe=pred_list,\n",
    "                                                    directory=pred_data_path,\n",
    "                                                    x_col=\"img_path\",\n",
    "                                                    target_size=img_shape,\n",
    "                                                    batch_size=batch_size,\n",
    "                                                    class_mode=None,\n",
    "                                                    shuffle=False)\n"
   ]
  },
  {
   "cell_type": "markdown",
   "metadata": {
    "colab_type": "text",
    "id": "w3ZbQfBhkKQ_"
   },
   "source": [
    "## 開始訓練模型"
   ]
  },
  {
   "cell_type": "code",
   "execution_count": 24,
   "metadata": {},
   "outputs": [],
   "source": [
    "model_dir = 'model-logs/resnet50'\n",
    "if not os.path.exists(model_dir):\n",
    "    os.makedirs(model_dir)\n",
    "\n",
    "logfiles = model_dir + '/{}-{}'.format('basic_model',\n",
    "                                       model.__class__.__name__)\n",
    "model_cbk = keras.callbacks.TensorBoard(log_dir=logfiles,\n",
    "                                        histogram_freq=1)\n",
    "\n",
    "modelfiles = model_dir + '/{}-best-model.h5'.format('basic_model')\n",
    "model_mckp = keras.callbacks.ModelCheckpoint(modelfiles,\n",
    "                                             monitor='val_accuracy',\n",
    "                                             save_best_only=True)\n",
    "\n",
    "earlystop = keras.callbacks.EarlyStopping(monitor='val_loss',\n",
    "                                          patience=5,\n",
    "                                          verbose=1)\n",
    "\n",
    "\n",
    "callbacks_list = [model_cbk, model_mckp, earlystop]"
   ]
  },
  {
   "cell_type": "code",
   "execution_count": 25,
   "metadata": {
    "colab": {
     "base_uri": "https://localhost:8080/",
     "height": 652
    },
    "colab_type": "code",
    "executionInfo": {
     "elapsed": 541352,
     "status": "ok",
     "timestamp": 1563006265676,
     "user": {
      "displayName": "kinna kinna",
      "photoUrl": "",
      "userId": "09336290170720198249"
     },
     "user_tz": -480
    },
    "id": "dQ8rNZ9Cd7Ba",
    "outputId": "d5a95f17-fb07-4b19-f8ef-55fdfea5c20f"
   },
   "outputs": [
    {
     "name": "stdout",
     "output_type": "stream",
     "text": [
      "Epoch 1/50\n",
      "14/14 [==============================] - 17s 1s/step - loss: 1.8198 - accuracy: 0.2558 - val_loss: 1.8987 - val_accuracy: 0.2315\n",
      "Epoch 2/50\n",
      "14/14 [==============================] - 13s 952ms/step - loss: 1.5580 - accuracy: 0.3186 - val_loss: 1.7270 - val_accuracy: 0.2778\n",
      "Epoch 3/50\n",
      "14/14 [==============================] - 13s 935ms/step - loss: 1.3549 - accuracy: 0.4698 - val_loss: 1.5941 - val_accuracy: 0.2963\n",
      "Epoch 4/50\n",
      "14/14 [==============================] - 13s 961ms/step - loss: 1.1900 - accuracy: 0.5442 - val_loss: 1.4849 - val_accuracy: 0.3611\n",
      "Epoch 5/50\n",
      "14/14 [==============================] - 13s 945ms/step - loss: 1.0995 - accuracy: 0.5953 - val_loss: 1.3954 - val_accuracy: 0.3981\n",
      "Epoch 6/50\n",
      "14/14 [==============================] - 13s 926ms/step - loss: 0.9565 - accuracy: 0.6698 - val_loss: 1.3122 - val_accuracy: 0.4630\n",
      "Epoch 7/50\n",
      "14/14 [==============================] - 13s 936ms/step - loss: 0.8857 - accuracy: 0.7326 - val_loss: 1.2406 - val_accuracy: 0.5000\n",
      "Epoch 8/50\n",
      "14/14 [==============================] - 13s 926ms/step - loss: 0.7772 - accuracy: 0.7907 - val_loss: 1.1678 - val_accuracy: 0.5463\n",
      "Epoch 9/50\n",
      "14/14 [==============================] - 13s 916ms/step - loss: 0.7012 - accuracy: 0.8256 - val_loss: 1.1106 - val_accuracy: 0.5648\n",
      "Epoch 10/50\n",
      "14/14 [==============================] - 13s 943ms/step - loss: 0.6330 - accuracy: 0.8628 - val_loss: 1.0611 - val_accuracy: 0.5741\n",
      "Epoch 11/50\n",
      "14/14 [==============================] - 13s 937ms/step - loss: 0.5480 - accuracy: 0.8814 - val_loss: 1.0226 - val_accuracy: 0.5833\n",
      "Epoch 12/50\n",
      "14/14 [==============================] - 13s 937ms/step - loss: 0.4928 - accuracy: 0.9047 - val_loss: 0.9944 - val_accuracy: 0.5926\n",
      "Epoch 13/50\n",
      "14/14 [==============================] - 13s 927ms/step - loss: 0.4329 - accuracy: 0.9233 - val_loss: 0.9702 - val_accuracy: 0.6111\n",
      "Epoch 14/50\n",
      "14/14 [==============================] - 13s 925ms/step - loss: 0.4016 - accuracy: 0.9326 - val_loss: 0.9404 - val_accuracy: 0.6296\n",
      "Epoch 15/50\n",
      "14/14 [==============================] - 11s 766ms/step - loss: 0.3651 - accuracy: 0.9488 - val_loss: 0.9246 - val_accuracy: 0.6296\n",
      "Epoch 16/50\n",
      "14/14 [==============================] - 14s 965ms/step - loss: 0.3169 - accuracy: 0.9581 - val_loss: 0.9104 - val_accuracy: 0.6389\n",
      "Epoch 17/50\n",
      "14/14 [==============================] - 13s 923ms/step - loss: 0.2928 - accuracy: 0.9628 - val_loss: 0.8874 - val_accuracy: 0.6759\n",
      "Epoch 18/50\n",
      "14/14 [==============================] - 13s 916ms/step - loss: 0.2535 - accuracy: 0.9814 - val_loss: 0.8706 - val_accuracy: 0.7037\n",
      "Epoch 19/50\n",
      "14/14 [==============================] - 11s 769ms/step - loss: 0.2242 - accuracy: 0.9698 - val_loss: 0.8570 - val_accuracy: 0.6944\n",
      "Epoch 20/50\n",
      "14/14 [==============================] - 11s 802ms/step - loss: 0.2171 - accuracy: 0.9837 - val_loss: 0.8359 - val_accuracy: 0.6759\n",
      "Epoch 21/50\n",
      "14/14 [==============================] - 11s 798ms/step - loss: 0.1801 - accuracy: 0.9860 - val_loss: 0.8307 - val_accuracy: 0.6852\n",
      "Epoch 22/50\n",
      "14/14 [==============================] - 11s 786ms/step - loss: 0.1749 - accuracy: 0.9837 - val_loss: 0.8244 - val_accuracy: 0.6852\n",
      "Epoch 23/50\n",
      "14/14 [==============================] - 11s 794ms/step - loss: 0.1433 - accuracy: 0.9930 - val_loss: 0.8181 - val_accuracy: 0.6852\n",
      "Epoch 24/50\n",
      "14/14 [==============================] - 11s 796ms/step - loss: 0.1387 - accuracy: 0.9837 - val_loss: 0.8111 - val_accuracy: 0.6944\n",
      "Epoch 25/50\n",
      "14/14 [==============================] - 11s 792ms/step - loss: 0.1314 - accuracy: 0.9907 - val_loss: 0.8093 - val_accuracy: 0.7037\n",
      "Epoch 26/50\n",
      "14/14 [==============================] - 11s 783ms/step - loss: 0.1222 - accuracy: 0.9977 - val_loss: 0.8017 - val_accuracy: 0.7037\n",
      "Epoch 27/50\n",
      "14/14 [==============================] - 14s 983ms/step - loss: 0.1143 - accuracy: 0.9953 - val_loss: 0.7984 - val_accuracy: 0.7130\n",
      "Epoch 28/50\n",
      "14/14 [==============================] - 13s 928ms/step - loss: 0.0969 - accuracy: 0.9953 - val_loss: 0.7807 - val_accuracy: 0.7222\n",
      "Epoch 29/50\n",
      "14/14 [==============================] - 11s 767ms/step - loss: 0.0831 - accuracy: 0.9977 - val_loss: 0.7830 - val_accuracy: 0.7222\n",
      "Epoch 30/50\n",
      "14/14 [==============================] - 11s 791ms/step - loss: 0.0887 - accuracy: 1.0000 - val_loss: 0.7880 - val_accuracy: 0.7222\n",
      "Epoch 31/50\n",
      "14/14 [==============================] - 11s 785ms/step - loss: 0.0784 - accuracy: 0.9930 - val_loss: 0.7790 - val_accuracy: 0.7222\n",
      "Epoch 32/50\n",
      "14/14 [==============================] - 11s 794ms/step - loss: 0.0714 - accuracy: 1.0000 - val_loss: 0.7804 - val_accuracy: 0.7222\n",
      "Epoch 33/50\n",
      "14/14 [==============================] - 11s 788ms/step - loss: 0.0698 - accuracy: 0.9930 - val_loss: 0.7771 - val_accuracy: 0.7130\n",
      "Epoch 34/50\n",
      "14/14 [==============================] - 11s 782ms/step - loss: 0.0666 - accuracy: 0.9953 - val_loss: 0.7620 - val_accuracy: 0.7130\n",
      "Epoch 35/50\n",
      "14/14 [==============================] - 11s 789ms/step - loss: 0.0625 - accuracy: 0.9977 - val_loss: 0.7478 - val_accuracy: 0.7037\n",
      "Epoch 36/50\n",
      "14/14 [==============================] - 11s 790ms/step - loss: 0.0606 - accuracy: 0.9977 - val_loss: 0.7406 - val_accuracy: 0.7130\n",
      "Epoch 37/50\n",
      "14/14 [==============================] - 13s 958ms/step - loss: 0.0487 - accuracy: 1.0000 - val_loss: 0.7319 - val_accuracy: 0.7315\n",
      "Epoch 38/50\n",
      "14/14 [==============================] - 11s 757ms/step - loss: 0.0523 - accuracy: 1.0000 - val_loss: 0.7339 - val_accuracy: 0.7222\n",
      "Epoch 39/50\n",
      "14/14 [==============================] - 11s 810ms/step - loss: 0.0427 - accuracy: 1.0000 - val_loss: 0.7390 - val_accuracy: 0.7222\n",
      "Epoch 40/50\n",
      "14/14 [==============================] - 11s 798ms/step - loss: 0.0402 - accuracy: 1.0000 - val_loss: 0.7395 - val_accuracy: 0.7222\n",
      "Epoch 41/50\n",
      "14/14 [==============================] - 11s 776ms/step - loss: 0.0341 - accuracy: 1.0000 - val_loss: 0.7426 - val_accuracy: 0.7315\n",
      "Epoch 42/50\n",
      "14/14 [==============================] - 11s 800ms/step - loss: 0.0379 - accuracy: 0.9977 - val_loss: 0.7357 - val_accuracy: 0.7222\n",
      "Epoch 00042: early stopping\n"
     ]
    }
   ],
   "source": [
    "history = model.fit_generator(train_generator,\n",
    "                              steps_per_epoch=num_steps,\n",
    "                              epochs=num_epochs,\n",
    "                              validation_data=valid_generator,\n",
    "                              callbacks=callbacks_list)"
   ]
  },
  {
   "cell_type": "markdown",
   "metadata": {
    "colab_type": "text",
    "id": "nZBlMAU7kEwK"
   },
   "source": [
    "## 訓練結果視覺化"
   ]
  },
  {
   "cell_type": "code",
   "execution_count": 26,
   "metadata": {},
   "outputs": [
    {
     "name": "stdout",
     "output_type": "stream",
     "text": [
      "4/4 - 1s - loss: 0.7357 - accuracy: 0.7222\n"
     ]
    }
   ],
   "source": [
    "loss, acc = model.evaluate_generator(valid_generator, verbose=2)\n",
    "# model.save('path_to_saved_model', save_format='tf')\n"
   ]
  },
  {
   "cell_type": "code",
   "execution_count": 27,
   "metadata": {},
   "outputs": [],
   "source": [
    "# model = keras.models.load_model('./model-logs/basic_model-best-model.h5')\n",
    "# loss, acc = model.evaluate(x_test, y_test, verbose=2)"
   ]
  },
  {
   "cell_type": "code",
   "execution_count": 28,
   "metadata": {},
   "outputs": [],
   "source": [
    "y_pred = model.predict_generator(valid_generator)\n",
    "y_pred = y_pred.argmax(-1)"
   ]
  },
  {
   "cell_type": "code",
   "execution_count": 29,
   "metadata": {},
   "outputs": [
    {
     "data": {
      "text/plain": [
       "array([1, 2, 0, 1, 2, 0, 0, 3, 1, 1, 1, 3, 3, 2, 4, 2, 3, 4, 3, 1, 4, 2,\n",
       "       3, 4, 4, 1, 4, 4, 3, 1, 0, 2, 2, 0, 3, 0, 4, 2, 4, 0, 0, 3, 3, 0,\n",
       "       0, 2, 2, 1, 0, 2, 0, 3, 3, 0, 1, 0, 4, 1, 1, 2, 2, 1, 0, 1, 1, 3,\n",
       "       4, 3, 1, 4, 2, 3, 2, 4, 2, 1, 0, 4, 1, 3, 0, 4, 0, 0, 4, 2, 1, 4,\n",
       "       1, 0, 4, 3, 4, 4, 3, 0, 3, 2, 4, 4, 3, 1, 1, 0, 4, 2, 3, 1])"
      ]
     },
     "execution_count": 29,
     "metadata": {},
     "output_type": "execute_result"
    }
   ],
   "source": [
    "y_pred"
   ]
  },
  {
   "cell_type": "code",
   "execution_count": 30,
   "metadata": {},
   "outputs": [],
   "source": [
    "y_test = valid_generator.classes\n",
    "class_name = valid_generator.class_indices\n",
    "class_names = np.array([each for each in class_name.keys()])"
   ]
  },
  {
   "cell_type": "code",
   "execution_count": null,
   "metadata": {},
   "outputs": [],
   "source": []
  },
  {
   "cell_type": "code",
   "execution_count": 31,
   "metadata": {},
   "outputs": [
    {
     "data": {
      "text/plain": [
       "array([1, 2, 0, 1, 2, 0, 0, 3, 1, 1, 1, 3, 3, 2, 4, 2, 3, 4, 3, 1, 4, 2,\n",
       "       3, 4, 4, 1, 4, 4, 3, 1, 0, 2, 2, 0, 3, 0, 4, 2, 4, 0, 0, 3, 3, 0,\n",
       "       0, 2, 2, 1, 0, 2, 0, 3, 3, 0, 1, 0, 4, 1, 1, 2, 2, 1, 0, 1, 1, 3,\n",
       "       4, 3, 1, 4, 2, 3, 2, 4, 2, 1, 0, 4, 1, 3, 0, 4, 0, 0, 4, 2, 1, 4,\n",
       "       1, 0, 4, 3, 4, 4, 3, 0, 3, 2, 4, 4, 3, 1, 1, 0, 4, 2, 3, 1])"
      ]
     },
     "execution_count": 31,
     "metadata": {},
     "output_type": "execute_result"
    }
   ],
   "source": [
    "y_pred"
   ]
  },
  {
   "cell_type": "code",
   "execution_count": 32,
   "metadata": {},
   "outputs": [],
   "source": [
    "from sklearn.metrics import accuracy_score, confusion_matrix\n",
    "\n",
    "# print(accuracy_score(y_test, y_pred))\n",
    "# print(confusion_matrix(y_test, y_pred))"
   ]
  },
  {
   "cell_type": "code",
   "execution_count": 33,
   "metadata": {},
   "outputs": [
    {
     "data": {
      "text/plain": [
       "Text(0.5, 1, 'Confusion Matrix')"
      ]
     },
     "execution_count": 33,
     "metadata": {},
     "output_type": "execute_result"
    },
    {
     "data": {
      "image/png": "[encoded data removed]",
      "text/plain": [
       "<Figure size 720x720 with 1 Axes>"
      ]
     },
     "metadata": {
      "needs_background": "light"
     },
     "output_type": "display_data"
    }
   ],
   "source": [
    "import seaborn as sns\n",
    "\n",
    "matrix = confusion_matrix(y_test, y_pred)\n",
    "\n",
    "plt.figure(figsize=(10, 10))\n",
    "sns.heatmap(matrix, annot=True, cbar=False, cmap=\"Blues\",\n",
    "            xticklabels=class_names,\n",
    "            yticklabels=class_names)\n",
    "plt.ylabel('True Label')\n",
    "plt.xlabel('Predicted Label')\n",
    "plt.title('Confusion Matrix')"
   ]
  },
  {
   "cell_type": "code",
   "execution_count": 40,
   "metadata": {
    "colab": {},
    "colab_type": "code",
    "id": "XtUqvUzVSU82"
   },
   "outputs": [
    {
     "data": {
      "image/png": "[encoded data removed]",
      "text/plain": [
       "<Figure size 864x360 with 2 Axes>"
      ]
     },
     "metadata": {
      "needs_background": "light"
     },
     "output_type": "display_data"
    }
   ],
   "source": [
    "train_history = ['loss', 'val_loss', 'accuracy', 'val_accuracy']\n",
    "name_history = ['training_loss', 'val_loss', 'training_acc', 'val_acc']\n",
    "\n",
    "plt.figure(figsize=(12, 5))\n",
    "for eachx, eachy, i in zip(train_history, name_history, range(4)):\n",
    "    if i % 2 == 0:\n",
    "        plt.subplot(1, 2, i//2+1)\n",
    "    l_x = len(history.history[eachx])\n",
    "    plt.plot(np.arange(l_x), history.history[eachx], label=eachy)\n",
    "    plt.legend(loc='best')\n",
    "    plt.title(eachy)\n",
    "plt.show()"
   ]
  },
  {
   "cell_type": "code",
   "execution_count": 35,
   "metadata": {},
   "outputs": [],
   "source": [
    "#saveToCSV()\n",
    "y_pred = model.predict(test_generator)"
   ]
  },
  {
   "cell_type": "code",
   "execution_count": 36,
   "metadata": {},
   "outputs": [],
   "source": [
    "y_pred = y_pred.argmax(-1)"
   ]
  },
  {
   "cell_type": "code",
   "execution_count": 37,
   "metadata": {},
   "outputs": [],
   "source": [
    "# path = pred_list['img_path'][0]\n",
    "# print(path)\n",
    "# print(path.split('/')[-1].split('.')[0])"
   ]
  },
  {
   "cell_type": "code",
   "execution_count": 38,
   "metadata": {},
   "outputs": [],
   "source": [
    "count =pred_list.size\n",
    "i=0\n",
    "id_array =[]\n",
    "while(i < count):\n",
    "    path = pred_list['img_path'][i]\n",
    "    id_array.append(path.split('/')[-1].split('.')[0])\n",
    "    i+=1"
   ]
  },
  {
   "cell_type": "code",
   "execution_count": 39,
   "metadata": {},
   "outputs": [],
   "source": [
    "\n",
    "\n",
    "\n",
    "sub = pd.read_csv('/home/jovyan/mid-term/who_is_she/sample_submission.csv')\n",
    "    \n",
    "\n",
    "test_submission = pd.DataFrame({'id':id_array, 'class': y_pred})\n",
    "test_submission.to_csv('/home/jovyan/mid-term/who_is_she/output/submission.csv',index = False)\n"
   ]
  },
  {
   "cell_type": "code",
   "execution_count": null,
   "metadata": {},
   "outputs": [],
   "source": []
  }
 ],
 "metadata": {
  "accelerator": "GPU",
  "colab": {
   "collapsed_sections": [],
   "name": "ex3_CNN_transfer_learning.ipynb",
   "provenance": [
    {
     "file_id": "12H2XwTQeBcLbOYWHLw4J_3AObwxIp_nT",
     "timestamp": 1553101208325
    }
   ],
   "version": "0.3.2"
  },
  "kernelspec": {
   "display_name": "Python 3",
   "language": "python",
   "name": "python3"
  },
  "language_info": {
   "codemirror_mode": {
    "name": "ipython",
    "version": 3
   },
   "file_extension": ".py",
   "mimetype": "text/x-python",
   "name": "python",
   "nbconvert_exporter": "python",
   "pygments_lexer": "ipython3",
   "version": "3.7.3"
  }
 },
 "nbformat": 4,
 "nbformat_minor": 4
}
